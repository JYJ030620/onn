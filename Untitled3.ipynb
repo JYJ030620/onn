{
 "cells": [
  {
   "cell_type": "code",
   "execution_count": 2,
   "id": "64522200",
   "metadata": {
    "scrolled": true
   },
   "outputs": [
    {
     "name": "stderr",
     "output_type": "stream",
     "text": [
      "\u001b[34m\u001b[1mdetect: \u001b[0mweights=['runs/train/exp4/weights/fire.pt'], source=0, imgsz=[640, 640], conf_thres=0.6, iou_thres=0.45, max_det=1000, device=, view_img=False, save_txt=False, save_conf=False, save_crop=False, nosave=False, classes=None, agnostic_nms=False, augment=False, visualize=False, update=False, project=runs\\detect, name=exp, exist_ok=False, line_thickness=3, hide_labels=False, hide_conf=False, half=False, dnn=False\n",
      "YOLOv5  2021-11-9 torch 1.10.0 CPU\n",
      "\n",
      "Fusing layers... \n",
      "Model Summary: 232 layers, 7246518 parameters, 0 gradients\n",
      "[ WARN:0] global D:\\a\\opencv-python\\opencv-python\\opencv\\modules\\videoio\\src\\cap_msmf.cpp (376) `anonymous-namespace'::SourceReaderCB::OnReadSample videoio(MSMF): OnReadSample() is called with error status: -1072875772\n",
      "[ WARN:0] global D:\\a\\opencv-python\\opencv-python\\opencv\\modules\\videoio\\src\\cap_msmf.cpp (388) `anonymous-namespace'::SourceReaderCB::OnReadSample videoio(MSMF): async ReadSample() call is failed with error status: -1072875772\n",
      "[ WARN:1] global D:\\a\\opencv-python\\opencv-python\\opencv\\modules\\videoio\\src\\cap_msmf.cpp (1022) CvCapture_MSMF::grabFrame videoio(MSMF): can't grab frame. Error: -1072875772\n",
      "1/1: 0...  Success (inf frames 640x480 at 30.00 FPS)\n",
      "\n",
      "Traceback (most recent call last):\n",
      "  File \"detect.py\", line 323, in <module>\n",
      "    main(opt)\n",
      "  File \"detect.py\", line 318, in main\n",
      "    run(**vars(opt))\n",
      "  File \"C:\\ProgramData\\Anaconda3\\lib\\site-packages\\torch\\autograd\\grad_mode.py\", line 28, in decorate_context\n",
      "    return func(*args, **kwargs)\n",
      "  File \"detect.py\", line 139, in run\n",
      "    dataset = LoadStreams(source, img_size=imgsz, stride=stride, auto=pt)\n",
      "  File \"C:\\Users\\AiLab1tlf16\\Desktop\\yolov5-master\\utils\\datasets.py\", line 320, in __init__\n",
      "    s = np.stack([letterbox(x, self.img_size, stride=self.stride, auto=self.auto)[0].shape for x in self.imgs])\n",
      "  File \"C:\\Users\\AiLab1tlf16\\Desktop\\yolov5-master\\utils\\datasets.py\", line 320, in <listcomp>\n",
      "    s = np.stack([letterbox(x, self.img_size, stride=self.stride, auto=self.auto)[0].shape for x in self.imgs])\n",
      "  File \"C:\\Users\\AiLab1tlf16\\Desktop\\yolov5-master\\utils\\augmentations.py\", line 93, in letterbox\n",
      "    shape = im.shape[:2]  # current shape [height, width]\n",
      "AttributeError: 'NoneType' object has no attribute 'shape'\n"
     ]
    }
   ],
   "source": [
    "!python detect.py --source 0 --weights runs/train/exp4/weights/fire.pt --conf 0.6"
   ]
  },
  {
   "cell_type": "code",
   "execution_count": null,
   "id": "a882e20b",
   "metadata": {},
   "outputs": [],
   "source": [
    "!python train.py --img 640 --batch 16 --epochs 3 --data coco128.yaml --weights yolov5s.pt --cache"
   ]
  },
  {
   "cell_type": "code",
   "execution_count": null,
   "id": "7b06a354",
   "metadata": {},
   "outputs": [],
   "source": []
  }
 ],
 "metadata": {
  "kernelspec": {
   "display_name": "Python 3",
   "language": "python",
   "name": "python3"
  },
  "language_info": {
   "codemirror_mode": {
    "name": "ipython",
    "version": 3
   },
   "file_extension": ".py",
   "mimetype": "text/x-python",
   "name": "python",
   "nbconvert_exporter": "python",
   "pygments_lexer": "ipython3",
   "version": "3.8.8"
  }
 },
 "nbformat": 4,
 "nbformat_minor": 5
}
